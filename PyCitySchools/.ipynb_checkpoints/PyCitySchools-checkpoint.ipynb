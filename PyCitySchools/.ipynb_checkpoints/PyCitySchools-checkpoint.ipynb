{
 "cells": [
  {
   "cell_type": "code",
   "execution_count": 2,
   "id": "daf2e4a4",
   "metadata": {},
   "outputs": [],
   "source": [
    "import pandas as pd\n"
   ]
  },
  {
   "cell_type": "code",
   "execution_count": 3,
   "id": "e0ee3c98",
   "metadata": {},
   "outputs": [
    {
     "data": {
      "text/html": [
       "<div>\n",
       "<style scoped>\n",
       "    .dataframe tbody tr th:only-of-type {\n",
       "        vertical-align: middle;\n",
       "    }\n",
       "\n",
       "    .dataframe tbody tr th {\n",
       "        vertical-align: top;\n",
       "    }\n",
       "\n",
       "    .dataframe thead th {\n",
       "        text-align: right;\n",
       "    }\n",
       "</style>\n",
       "<table border=\"1\" class=\"dataframe\">\n",
       "  <thead>\n",
       "    <tr style=\"text-align: right;\">\n",
       "      <th></th>\n",
       "      <th>Student ID</th>\n",
       "      <th>student_name</th>\n",
       "      <th>gender</th>\n",
       "      <th>grade</th>\n",
       "      <th>school_name</th>\n",
       "      <th>reading_score</th>\n",
       "      <th>math_score</th>\n",
       "    </tr>\n",
       "  </thead>\n",
       "  <tbody>\n",
       "    <tr>\n",
       "      <th>0</th>\n",
       "      <td>0</td>\n",
       "      <td>Paul Bradley</td>\n",
       "      <td>M</td>\n",
       "      <td>9th</td>\n",
       "      <td>Huang High School</td>\n",
       "      <td>66</td>\n",
       "      <td>79</td>\n",
       "    </tr>\n",
       "    <tr>\n",
       "      <th>1</th>\n",
       "      <td>1</td>\n",
       "      <td>Victor Smith</td>\n",
       "      <td>M</td>\n",
       "      <td>12th</td>\n",
       "      <td>Huang High School</td>\n",
       "      <td>94</td>\n",
       "      <td>61</td>\n",
       "    </tr>\n",
       "    <tr>\n",
       "      <th>2</th>\n",
       "      <td>2</td>\n",
       "      <td>Kevin Rodriguez</td>\n",
       "      <td>M</td>\n",
       "      <td>12th</td>\n",
       "      <td>Huang High School</td>\n",
       "      <td>90</td>\n",
       "      <td>60</td>\n",
       "    </tr>\n",
       "    <tr>\n",
       "      <th>3</th>\n",
       "      <td>3</td>\n",
       "      <td>Dr. Richard Scott</td>\n",
       "      <td>M</td>\n",
       "      <td>12th</td>\n",
       "      <td>Huang High School</td>\n",
       "      <td>67</td>\n",
       "      <td>58</td>\n",
       "    </tr>\n",
       "    <tr>\n",
       "      <th>4</th>\n",
       "      <td>4</td>\n",
       "      <td>Bonnie Ray</td>\n",
       "      <td>F</td>\n",
       "      <td>9th</td>\n",
       "      <td>Huang High School</td>\n",
       "      <td>97</td>\n",
       "      <td>84</td>\n",
       "    </tr>\n",
       "  </tbody>\n",
       "</table>\n",
       "</div>"
      ],
      "text/plain": [
       "   Student ID       student_name gender grade        school_name  \\\n",
       "0           0       Paul Bradley      M   9th  Huang High School   \n",
       "1           1       Victor Smith      M  12th  Huang High School   \n",
       "2           2    Kevin Rodriguez      M  12th  Huang High School   \n",
       "3           3  Dr. Richard Scott      M  12th  Huang High School   \n",
       "4           4         Bonnie Ray      F   9th  Huang High School   \n",
       "\n",
       "   reading_score  math_score  \n",
       "0             66          79  \n",
       "1             94          61  \n",
       "2             90          60  \n",
       "3             67          58  \n",
       "4             97          84  "
      ]
     },
     "execution_count": 3,
     "metadata": {},
     "output_type": "execute_result"
    }
   ],
   "source": [
    "stupath = \"Resources/students_complete.csv\"\n",
    "schlpath = \"Resources/schools_complete.csv\"\n",
    "\n",
    "stulis_df = pd.read_csv(stupath)\n",
    "school_df = pd.read_csv(schlpath)\n",
    "\n",
    "#stulis_df.head()\n",
    "#school_df.head()"
   ]
  },
  {
   "cell_type": "code",
   "execution_count": 34,
   "id": "04d3fbc3",
   "metadata": {},
   "outputs": [
    {
     "name": "stdout",
     "output_type": "stream",
     "text": [
      "[81.03, 83.98, 81.16, 80.75, 83.82, 80.93, 83.81, 81.18, 80.97, 84.04, 80.74, 83.73, 83.85, 83.99, 83.95]\n",
      "[77.05, 83.06, 76.71, 77.1, 83.35, 77.29, 83.8, 76.63, 77.07, 83.84, 76.84, 83.36, 83.42, 83.27, 83.68]\n"
     ]
    }
   ],
   "source": [
    "stubyschl_df = stulis_df.groupby('school_name').mean()\n",
    "read_scr_schl = [round(rval,2) for rval in stubyschl_df['reading_score']]\n",
    "math_scr_schl = [round(mval,2) for mval in stubyschl_df['math_score']]\n",
    "stubyschl_df.head()\n",
    "\n",
    "#these lists should be sorted by school in alphabetical order\n",
    "print(read_scr_schl)\n",
    "print(math_scr_schl)"
   ]
  },
  {
   "cell_type": "code",
   "execution_count": 20,
   "id": "da7dd523",
   "metadata": {},
   "outputs": [],
   "source": [
    "#District Summary\n",
    "#Create Data Frame to include Total Number of unique schools; total number of students; total budget; average math score; average reading score; % passing math, % passing reading, % passing both\n",
    "\n",
    "school_count = school_df.school_name.unique().size\n",
    "#print(\"There are \" + str(school_count) + \" schools in this distric.\")\n",
    "student_count = school_df['size'].sum()\n",
    "#print(\"There are \" + str(student_count) + \" students in this distric.\")\n",
    "total_budget = school_df['budget'].sum()\n",
    "#print(\"The total budget for all schools in the distric is $\" + str(total_budget) + \".\")\n",
    "read_score_total = stulis_df['reading_score'].sum()\n",
    "dis_avr_read = round((read_score_total)/(student_count),2)\n",
    "#print(\"The average grade in reading in the distric is \" + str(dis_avr_read) + \".\")\n",
    "math_score_total = stulis_df['math_score'].sum()\n",
    "dis_avr_math = round((math_score_total)/(student_count),2)\n",
    "#print(\"The average grade in math in the distric is \" + str(dis_avr_math) + \".\")\n",
    "num_pass_read = len(stulis_df[stulis_df['reading_score']>=70])\n",
    "prcnt_pass_read = round(((num_pass_read)/(student_count)*100),2)\n",
    "#print(\"The percent of students passing reading in the distric is \" + str(prcnt_pass_read) + \"%.\")\n",
    "num_pass_math = len(stulis_df[stulis_df['math_score']>=70])\n",
    "prcnt_pass_math = round(((num_pass_math)/(student_count)*100),2)\n",
    "#print(\"The percent of students passing math in the distric is \" + str(prcnt_pass_math) + \"%.\")\n",
    "num_pass_both = len(stulis_df[(stulis_df['math_score']>=70) & (stulis_df['reading_score']>=70)])\n",
    "prcnt_pass_both = round(((num_pass_both)/(student_count)*100),2)\n",
    "#print(\"The percent of students passing both reading and math in the distric is \" + str(prcnt_pass_both) + \"%.\")"
   ]
  },
  {
   "cell_type": "code",
   "execution_count": 28,
   "id": "501ccf59",
   "metadata": {},
   "outputs": [
    {
     "data": {
      "text/html": [
       "<style type=\"text/css\">\n",
       "</style>\n",
       "<table id=\"T_8a914\">\n",
       "  <thead>\n",
       "    <tr>\n",
       "      <th id=\"T_8a914_level0_col0\" class=\"col_heading level0 col0\" >Number of Schools</th>\n",
       "      <th id=\"T_8a914_level0_col1\" class=\"col_heading level0 col1\" >Number of Students</th>\n",
       "      <th id=\"T_8a914_level0_col2\" class=\"col_heading level0 col2\" >Total Budget</th>\n",
       "      <th id=\"T_8a914_level0_col3\" class=\"col_heading level0 col3\" >Average Math Score</th>\n",
       "      <th id=\"T_8a914_level0_col4\" class=\"col_heading level0 col4\" >Average Reading Score</th>\n",
       "      <th id=\"T_8a914_level0_col5\" class=\"col_heading level0 col5\" >Percent Passing Math</th>\n",
       "      <th id=\"T_8a914_level0_col6\" class=\"col_heading level0 col6\" >Percent Passing Reading</th>\n",
       "      <th id=\"T_8a914_level0_col7\" class=\"col_heading level0 col7\" >Percent Passing Both</th>\n",
       "    </tr>\n",
       "  </thead>\n",
       "  <tbody>\n",
       "    <tr>\n",
       "      <td id=\"T_8a914_row0_col0\" class=\"data row0 col0\" >15</td>\n",
       "      <td id=\"T_8a914_row0_col1\" class=\"data row0 col1\" >39170</td>\n",
       "      <td id=\"T_8a914_row0_col2\" class=\"data row0 col2\" >24649428</td>\n",
       "      <td id=\"T_8a914_row0_col3\" class=\"data row0 col3\" >78.990000</td>\n",
       "      <td id=\"T_8a914_row0_col4\" class=\"data row0 col4\" >81.880000</td>\n",
       "      <td id=\"T_8a914_row0_col5\" class=\"data row0 col5\" >74.980000</td>\n",
       "      <td id=\"T_8a914_row0_col6\" class=\"data row0 col6\" >85.810000</td>\n",
       "      <td id=\"T_8a914_row0_col7\" class=\"data row0 col7\" >65.170000</td>\n",
       "    </tr>\n",
       "  </tbody>\n",
       "</table>\n"
      ],
      "text/plain": [
       "<pandas.io.formats.style.Styler at 0x27c74363eb0>"
      ]
     },
     "execution_count": 28,
     "metadata": {},
     "output_type": "execute_result"
    }
   ],
   "source": [
    "distric_summary = {\n",
    "    'Number of Schools':[school_count],\n",
    "    'Number of Students':[student_count],\n",
    "    'Total Budget':[total_budget],\n",
    "    'Average Math Score':[dis_avr_math],\n",
    "    'Average Reading Score':[dis_avr_read],\n",
    "    'Percent Passing Math':[prcnt_pass_math],\n",
    "    'Percent Passing Reading':[prcnt_pass_read],\n",
    "    'Percent Passing Both':[prcnt_pass_both]\n",
    "    }\n",
    "distric_summary_df = pd.DataFrame(distric_summary)\n",
    "distric_summary_df.style.hide(axis='index')"
   ]
  },
  {
   "cell_type": "code",
   "execution_count": null,
   "id": "0f82e601",
   "metadata": {},
   "outputs": [],
   "source": [
    "#School Summary\n",
    "#Create Data Frame to include School name, school type, total number of students; total budget; budget per student, average math score; average reading score; % passing math, % passing reading, % passing both\n",
    "#build new dataframe off of school_df\n",
    "#need to group stulis_df by school and then later further by grade\n",
    "#add additional columns to new df based on calculations done on stulis_df groups\n"
   ]
  },
  {
   "cell_type": "code",
   "execution_count": null,
   "id": "f2e8a25b",
   "metadata": {},
   "outputs": [],
   "source": []
  },
  {
   "cell_type": "code",
   "execution_count": null,
   "id": "dfa7d12c",
   "metadata": {},
   "outputs": [],
   "source": []
  },
  {
   "cell_type": "code",
   "execution_count": null,
   "id": "83cdae4d",
   "metadata": {},
   "outputs": [],
   "source": []
  },
  {
   "cell_type": "code",
   "execution_count": null,
   "id": "6a0c5292",
   "metadata": {},
   "outputs": [],
   "source": []
  },
  {
   "cell_type": "code",
   "execution_count": null,
   "id": "be63c4c1",
   "metadata": {},
   "outputs": [],
   "source": []
  },
  {
   "cell_type": "code",
   "execution_count": null,
   "id": "1d3cc50b",
   "metadata": {},
   "outputs": [],
   "source": []
  },
  {
   "cell_type": "code",
   "execution_count": null,
   "id": "0daeaf1e",
   "metadata": {},
   "outputs": [],
   "source": []
  },
  {
   "cell_type": "code",
   "execution_count": null,
   "id": "eda540f4",
   "metadata": {},
   "outputs": [],
   "source": []
  },
  {
   "cell_type": "code",
   "execution_count": null,
   "id": "88b5a1a2",
   "metadata": {},
   "outputs": [],
   "source": []
  },
  {
   "cell_type": "code",
   "execution_count": null,
   "id": "7866f4ec",
   "metadata": {},
   "outputs": [],
   "source": []
  },
  {
   "cell_type": "code",
   "execution_count": null,
   "id": "5ebe54a0",
   "metadata": {},
   "outputs": [],
   "source": []
  },
  {
   "cell_type": "code",
   "execution_count": null,
   "id": "6cf1ac6a",
   "metadata": {},
   "outputs": [],
   "source": []
  },
  {
   "cell_type": "code",
   "execution_count": null,
   "id": "9b2578fe",
   "metadata": {},
   "outputs": [],
   "source": []
  },
  {
   "cell_type": "code",
   "execution_count": null,
   "id": "98159601",
   "metadata": {},
   "outputs": [],
   "source": []
  },
  {
   "cell_type": "code",
   "execution_count": null,
   "id": "04696a2e",
   "metadata": {},
   "outputs": [],
   "source": []
  },
  {
   "cell_type": "code",
   "execution_count": null,
   "id": "b838000d",
   "metadata": {},
   "outputs": [],
   "source": []
  },
  {
   "cell_type": "code",
   "execution_count": null,
   "id": "83002b81",
   "metadata": {},
   "outputs": [],
   "source": []
  },
  {
   "cell_type": "code",
   "execution_count": null,
   "id": "eebd3b83",
   "metadata": {},
   "outputs": [],
   "source": []
  },
  {
   "cell_type": "code",
   "execution_count": null,
   "id": "e2510f51",
   "metadata": {},
   "outputs": [],
   "source": []
  },
  {
   "cell_type": "code",
   "execution_count": null,
   "id": "710471d2",
   "metadata": {},
   "outputs": [],
   "source": []
  },
  {
   "cell_type": "code",
   "execution_count": null,
   "id": "e34df5f2",
   "metadata": {},
   "outputs": [],
   "source": []
  },
  {
   "cell_type": "code",
   "execution_count": null,
   "id": "e7de8ab9",
   "metadata": {},
   "outputs": [],
   "source": []
  },
  {
   "cell_type": "code",
   "execution_count": null,
   "id": "bcc417ee",
   "metadata": {},
   "outputs": [],
   "source": []
  },
  {
   "cell_type": "code",
   "execution_count": null,
   "id": "1fdb9376",
   "metadata": {},
   "outputs": [],
   "source": []
  },
  {
   "cell_type": "code",
   "execution_count": null,
   "id": "2fb05da0",
   "metadata": {},
   "outputs": [],
   "source": []
  },
  {
   "cell_type": "code",
   "execution_count": null,
   "id": "2b29cdfc",
   "metadata": {},
   "outputs": [],
   "source": []
  }
 ],
 "metadata": {
  "kernelspec": {
   "display_name": "PythonData",
   "language": "python",
   "name": "pythondata"
  },
  "language_info": {
   "codemirror_mode": {
    "name": "ipython",
    "version": 3
   },
   "file_extension": ".py",
   "mimetype": "text/x-python",
   "name": "python",
   "nbconvert_exporter": "python",
   "pygments_lexer": "ipython3",
   "version": "3.9.13"
  }
 },
 "nbformat": 4,
 "nbformat_minor": 5
}
